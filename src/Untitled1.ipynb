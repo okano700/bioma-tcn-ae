{
 "cells": [
  {
   "cell_type": "code",
   "execution_count": 1,
   "metadata": {
    "execution": {
     "iopub.execute_input": "2023-03-10T16:55:08.951832Z",
     "iopub.status.busy": "2023-03-10T16:55:08.951459Z",
     "iopub.status.idle": "2023-03-10T16:55:13.252987Z",
     "shell.execute_reply": "2023-03-10T16:55:13.251514Z",
     "shell.execute_reply.started": "2023-03-10T16:55:08.951758Z"
    },
    "tags": []
   },
   "outputs": [
    {
     "ename": "ModuleNotFoundError",
     "evalue": "No module named 'src'",
     "output_type": "error",
     "traceback": [
      "\u001b[0;31m---------------------------------------------------------------------------\u001b[0m",
      "\u001b[0;31mModuleNotFoundError\u001b[0m                       Traceback (most recent call last)",
      "Input \u001b[0;32mIn [1]\u001b[0m, in \u001b[0;36m<module>\u001b[0;34m\u001b[0m\n\u001b[1;32m      2\u001b[0m \u001b[38;5;28;01mimport\u001b[39;00m \u001b[38;5;21;01mtime\u001b[39;00m\n\u001b[1;32m      3\u001b[0m \u001b[38;5;28;01mfrom\u001b[39;00m \u001b[38;5;21;01mutilities\u001b[39;00m \u001b[38;5;28;01mimport\u001b[39;00m select_gpus, plot_results \u001b[38;5;66;03m# utilities.py: Contains a few miscellaneous functions \u001b[39;00m\n\u001b[0;32m----> 4\u001b[0m \u001b[38;5;28;01mfrom\u001b[39;00m \u001b[38;5;21;01mtcnae\u001b[39;00m \u001b[38;5;28;01mimport\u001b[39;00m TCNAE \u001b[38;5;66;03m# tcnae.py: Specification of the TCN-AE model\u001b[39;00m\n\u001b[1;32m      5\u001b[0m \u001b[38;5;28;01mimport\u001b[39;00m \u001b[38;5;21;01mpandas\u001b[39;00m \u001b[38;5;28;01mas\u001b[39;00m \u001b[38;5;21;01mpd\u001b[39;00m\n\u001b[1;32m      6\u001b[0m \u001b[38;5;28;01mimport\u001b[39;00m \u001b[38;5;21;01mnumpy\u001b[39;00m \u001b[38;5;28;01mas\u001b[39;00m \u001b[38;5;21;01mnp\u001b[39;00m\n",
      "File \u001b[0;32m~/Documents/GitHub/bioma-tcn-ae/src/tcnae.py:1\u001b[0m, in \u001b[0;36m<module>\u001b[0;34m\u001b[0m\n\u001b[0;32m----> 1\u001b[0m \u001b[38;5;28;01mfrom\u001b[39;00m \u001b[38;5;21;01msrc\u001b[39;00m\u001b[38;5;21;01m.\u001b[39;00m\u001b[38;5;21;01mutilities\u001b[39;00m \u001b[38;5;28;01mimport\u001b[39;00m slide_window, mahalanobis_distance\n\u001b[1;32m      2\u001b[0m \u001b[38;5;28;01mimport\u001b[39;00m \u001b[38;5;21;01mnumpy\u001b[39;00m\n\u001b[1;32m      3\u001b[0m \u001b[38;5;28;01mfrom\u001b[39;00m \u001b[38;5;21;01mtcn\u001b[39;00m \u001b[38;5;28;01mimport\u001b[39;00m TCN\n",
      "\u001b[0;31mModuleNotFoundError\u001b[0m: No module named 'src'"
     ]
    }
   ],
   "source": [
    "import numpy\n",
    "import time\n",
    "from utilities import select_gpus, plot_results # utilities.py: Contains a few miscellaneous functions \n",
    "from tcnae import TCNAE # tcnae.py: Specification of the TCN-AE model\n",
    "import pandas as pd\n",
    "import numpy as np\n",
    "import matplotlib.pyplot as plt\n",
    "import urllib.request\n",
    "import tensorflow as tf\n",
    "from sklearn.preprocessing import MinMaxScaler\n",
    "import json\n",
    "from WindowGen import WindowGenerator\n",
    "\n",
    "\n",
    "%matplotlib inline\n",
    "class TSdataset:\n",
    "\n",
    "    def __init__(self, path:str, source:str):\n",
    "        self.source = source\n",
    "        self._features = {}\n",
    "        self.MinMaxs = MinMaxScaler()\n",
    "        if source ==\"NAB\":\n",
    "            split_name = str(path).split('/')\n",
    "            self.ds_name = '/'.join(split_name[-2:])\n",
    "            self.df = pd.read_csv(path, parse_dates=[0], index_col= 0)\n",
    "            self.ts = np.array(self.df.value)\n",
    "            self._features['DS_name']  = self.ds_name\n",
    "            self._get_NAB_anomaly()\n",
    "\n",
    "\n",
    "        elif source == \"UCR\":\n",
    "            split_name = str(path).split('/')\n",
    "            self.ds_name = '/'.join(split_name[-2:])\n",
    "            split_name = str(split_name[-1]).split('.')[0]\n",
    "            name_aux = str(split_name).split('_')\n",
    "            self.ds_name = f\"{split_name[-1]}\"\n",
    "            self.ts = np.genfromtxt(path)\n",
    "            self.df = pd.DataFrame(self.ts, columns = ['value'])\n",
    "            self._features['DS_name'] = self.ds_name\n",
    "            anomaly = np.zeros(len(self.df), dtype = np.int)\n",
    "            anomaly[int(name_aux[5]):int(name_aux[6])] = 1\n",
    "            self.df['is_anomaly'] = anomaly\n",
    "\n",
    "\n",
    "        elif source == \"YAHOO\":\n",
    "            split_name = str(path).split('/')\n",
    "            self.ds_name = '/'.join(split_name[-2:])\n",
    "            self.df = pd.read_csv(path)\n",
    "            self.df.set_index('timestamp', inplace = True)\n",
    "            self.ts = np.array(self.df['value'])\n",
    "            self._features['DS_name'] = self.ds_name\n",
    "            \n",
    "        self.ts_scaled = self.MinMaxs.fit_transform(self.ts.reshape(-1, 1))\n",
    "\n",
    "\n",
    "    def _get_NAB_anomaly(self, path:str = None):\n",
    "        if path == None:\n",
    "            with urllib.request.urlopen(\"https://raw.githubusercontent.com/numenta/NAB/master/labels/combined_windows.json\") as url:\n",
    "                an = json.load(url)\n",
    "        else:\n",
    "            with open(path, \"r\") as jsonF:\n",
    "                an = json.load(jsonF)\n",
    "\n",
    "        aux = np.zeros(len(self.df), dtype = np.int)\n",
    "        for start, end in an[self.ds_name]:\n",
    "            aux[self.df.index.get_loc(pd.to_datetime(start)): self.df.index.get_loc(pd.to_datetime(end))] = 1\n",
    "        self.df['is_anomaly'] = aux\n",
    "\n",
    "\n",
    "\n",
    "    def _get_anomaly_window(self):\n",
    "        edges = np.diff(np.concatenate([[0],self.df['is_anomaly'],[0]])).nonzero()[0]\n",
    "        edges = edges.reshape((-1,2)) + np.array([0,-1])\n",
    "        if self.source == 'NAB':\n",
    "            return np.array(self.df.index)[edges]\n",
    "        else:\n",
    "            return edges\n",
    "\n",
    "\n",
    "    def plot(self, width:int = 25, height:int = 8):\n",
    "\n",
    "        my_alpha = 0.4\n",
    "        plt.figure(figsize=(width,height))\n",
    "        if self.source in ['YAHOO','UCR']:\n",
    "            real_anoms = self._get_anomaly_window()\n",
    "\n",
    "            extend_window = 2\n",
    "            for anom in real_anoms:\n",
    "                plt.axvspan(anom[0]-extend_window,anom[1]+extend_window, ymin=0.0, ymax=50, alpha=my_alpha, color='red')\n",
    "            plt.plot(self.df['value'], zorder=1)\n",
    "            plt.ylim((self.df['value'].values.min(),self.df['value'].values.max()));\n",
    "        else:\n",
    "\n",
    "            real_anoms = self._get_anomaly_window()\n",
    "            for anom in real_anoms:\n",
    "                plt.axvspan(anom[0],anom[1], ymin=0.0, ymax=50, alpha=my_alpha, color='red')\n",
    "            plt.plot(self.df['value'], zorder=1)\n",
    "            plt.ylim((self.df['value'].values.min(),self.df['value'].values.max()));\n",
    "        plt.draw()\n"
   ]
  },
  {
   "cell_type": "code",
   "execution_count": null,
   "metadata": {
    "execution": {
     "iopub.status.busy": "2023-03-10T16:55:13.254103Z",
     "iopub.status.idle": "2023-03-10T16:55:13.254660Z",
     "shell.execute_reply": "2023-03-10T16:55:13.254423Z"
    },
    "tags": []
   },
   "outputs": [],
   "source": [
    "ds = TSdataset('../../metaFeaturesTS/data/UCR_Anomaly_FullData/157_UCR_Anomaly_TkeepFirstMARS_3500_5365_5380.txt', 'UCR')"
   ]
  },
  {
   "cell_type": "code",
   "execution_count": 3,
   "metadata": {
    "execution": {
     "iopub.execute_input": "2023-03-07T14:03:11.491054Z",
     "iopub.status.busy": "2023-03-07T14:03:11.490712Z",
     "iopub.status.idle": "2023-03-07T14:03:11.701638Z",
     "shell.execute_reply": "2023-03-07T14:03:11.700465Z",
     "shell.execute_reply.started": "2023-03-07T14:03:11.491024Z"
    },
    "tags": []
   },
   "outputs": [
    {
     "data": {
      "text/plain": [
       "[<matplotlib.lines.Line2D at 0x102f83dc0>]"
      ]
     },
     "execution_count": 3,
     "metadata": {},
     "output_type": "execute_result"
    },
    {
     "data": {
      "image/png": "[encoded data removed]",
      "text/plain": [
       "<Figure size 432x288 with 1 Axes>"
      ]
     },
     "metadata": {
      "needs_background": "light"
     },
     "output_type": "display_data"
    }
   ],
   "source": [
    "plt.plot(ds.ts_scaled)"
   ]
  },
  {
   "cell_type": "code",
   "execution_count": 4,
   "metadata": {
    "execution": {
     "iopub.execute_input": "2023-03-07T14:03:11.705248Z",
     "iopub.status.busy": "2023-03-07T14:03:11.704815Z",
     "iopub.status.idle": "2023-03-07T14:03:11.727802Z",
     "shell.execute_reply": "2023-03-07T14:03:11.726433Z",
     "shell.execute_reply.started": "2023-03-07T14:03:11.705217Z"
    },
    "tags": []
   },
   "outputs": [
    {
     "name": "stdout",
     "output_type": "stream",
     "text": [
      "Training input shape:  (5484, 220, 1)\n"
     ]
    }
   ],
   "source": [
    "TIME_STEPS = 220\n",
    "\n",
    "# Generated training sequences for use in the model.\n",
    "def create_sequences(values, time_steps=TIME_STEPS):\n",
    "    output = []\n",
    "    for i in range(len(values) - time_steps + 1):\n",
    "        output.append(values[i : (i + time_steps)])\n",
    "    return np.stack(output)\n",
    "\n",
    "\n",
    "x_train = create_sequences(ds.ts_scaled[:int(len(ds.ts)*0.5)], TIME_STEPS)\n",
    "print(\"Training input shape: \", x_train.shape)"
   ]
  },
  {
   "cell_type": "code",
   "execution_count": null,
   "metadata": {
    "tags": []
   },
   "outputs": [],
   "source": [
    "dt = WindowGenerator(input_width=220, label_width=0, shift=1, train_df=ds.df.loc[:3500], val_df=ds.df.loc[3500:4500], test_df=ds.df.loc[4500:5500], label_columns='is_anomaly')"
   ]
  },
  {
   "cell_type": "code",
   "execution_count": null,
   "metadata": {
    "tags": []
   },
   "outputs": [],
   "source": [
    "dt.train"
   ]
  },
  {
   "cell_type": "code",
   "execution_count": 9,
   "metadata": {
    "execution": {
     "iopub.execute_input": "2023-03-07T14:15:49.690260Z",
     "iopub.status.busy": "2023-03-07T14:15:49.689961Z",
     "iopub.status.idle": "2023-03-07T17:12:36.622417Z",
     "shell.execute_reply": "2023-03-07T17:12:36.620847Z",
     "shell.execute_reply.started": "2023-03-07T14:15:49.690234Z"
    },
    "tags": []
   },
   "outputs": [
    {
     "name": "stderr",
     "output_type": "stream",
     "text": [
      "/usr/local/lib/python3.9/site-packages/keras/optimizer_v2/adam.py:105: UserWarning: The `lr` argument is deprecated, use `learning_rate` instead.\n",
      "  super(Adam, self).__init__(name, **kwargs)\n"
     ]
    },
    {
     "name": "stdout",
     "output_type": "stream",
     "text": [
      "> Starting the Training...\n",
      "Epoch 1/50\n",
      "172/172 - 36s - loss: 0.0244 - logcosh: 0.0244 - val_loss: 4.6564e-04 - val_logcosh: 4.6564e-04 - 36s/epoch - 209ms/step\n",
      "Epoch 2/50\n",
      "172/172 - 31s - loss: 1.3571e-04 - logcosh: 1.3571e-04 - val_loss: 2.1462e-04 - val_logcosh: 2.1462e-04 - 31s/epoch - 182ms/step\n",
      "Epoch 3/50\n",
      "172/172 - 31s - loss: 9.3578e-05 - logcosh: 9.3578e-05 - val_loss: 1.4681e-04 - val_logcosh: 1.4681e-04 - 31s/epoch - 180ms/step\n",
      "Epoch 4/50\n",
      "172/172 - 3262s - loss: 7.8458e-05 - logcosh: 7.8458e-05 - val_loss: 1.1619e-04 - val_logcosh: 1.1619e-04 - 3262s/epoch - 19s/step\n",
      "Epoch 5/50\n",
      "172/172 - 5711s - loss: 6.4298e-05 - logcosh: 6.4298e-05 - val_loss: 1.2404e-04 - val_logcosh: 1.2404e-04 - 5711s/epoch - 33s/step\n",
      "Epoch 6/50\n",
      "172/172 - 46s - loss: 6.1154e-05 - logcosh: 6.1154e-05 - val_loss: 1.0318e-04 - val_logcosh: 1.0318e-04 - 46s/epoch - 269ms/step\n",
      "Epoch 7/50\n",
      "172/172 - 34s - loss: 5.6090e-05 - logcosh: 5.6090e-05 - val_loss: 1.0749e-04 - val_logcosh: 1.0749e-04 - 34s/epoch - 195ms/step\n",
      "Epoch 8/50\n",
      "172/172 - 33s - loss: 5.0724e-05 - logcosh: 5.0724e-05 - val_loss: 8.3371e-05 - val_logcosh: 8.3371e-05 - 33s/epoch - 195ms/step\n",
      "Epoch 9/50\n",
      "172/172 - 33s - loss: 4.6851e-05 - logcosh: 4.6851e-05 - val_loss: 8.7427e-05 - val_logcosh: 8.7427e-05 - 33s/epoch - 194ms/step\n",
      "Epoch 10/50\n",
      "172/172 - 31s - loss: 4.4801e-05 - logcosh: 4.4801e-05 - val_loss: 7.4637e-05 - val_logcosh: 7.4637e-05 - 31s/epoch - 178ms/step\n",
      "Epoch 11/50\n",
      "172/172 - 32s - loss: 4.4178e-05 - logcosh: 4.4178e-05 - val_loss: 7.8037e-05 - val_logcosh: 7.8037e-05 - 32s/epoch - 188ms/step\n",
      "Epoch 12/50\n",
      "172/172 - 30s - loss: 4.3579e-05 - logcosh: 4.3579e-05 - val_loss: 6.6690e-05 - val_logcosh: 6.6690e-05 - 30s/epoch - 176ms/step\n",
      "Epoch 13/50\n",
      "172/172 - 33s - loss: 4.1178e-05 - logcosh: 4.1178e-05 - val_loss: 7.1811e-05 - val_logcosh: 7.1811e-05 - 33s/epoch - 192ms/step\n",
      "Epoch 14/50\n",
      "172/172 - 35s - loss: 3.7077e-05 - logcosh: 3.7077e-05 - val_loss: 6.2018e-05 - val_logcosh: 6.2018e-05 - 35s/epoch - 202ms/step\n",
      "Epoch 15/50\n",
      "172/172 - 31s - loss: 3.7353e-05 - logcosh: 3.7353e-05 - val_loss: 8.1073e-05 - val_logcosh: 8.1073e-05 - 31s/epoch - 179ms/step\n",
      "Epoch 16/50\n",
      "172/172 - 30s - loss: 3.4196e-05 - logcosh: 3.4196e-05 - val_loss: 7.9376e-05 - val_logcosh: 7.9376e-05 - 30s/epoch - 177ms/step\n",
      "Epoch 17/50\n",
      "172/172 - 30s - loss: 3.2828e-05 - logcosh: 3.2828e-05 - val_loss: 7.1421e-05 - val_logcosh: 7.1421e-05 - 30s/epoch - 176ms/step\n",
      "Epoch 18/50\n",
      "172/172 - 32s - loss: 3.5655e-05 - logcosh: 3.5655e-05 - val_loss: 5.2505e-05 - val_logcosh: 5.2505e-05 - 32s/epoch - 184ms/step\n",
      "Epoch 19/50\n",
      "172/172 - 32s - loss: 3.0455e-05 - logcosh: 3.0455e-05 - val_loss: 5.6852e-05 - val_logcosh: 5.6852e-05 - 32s/epoch - 187ms/step\n",
      "Epoch 20/50\n",
      "172/172 - 34s - loss: 3.0296e-05 - logcosh: 3.0296e-05 - val_loss: 5.3174e-05 - val_logcosh: 5.3174e-05 - 34s/epoch - 195ms/step\n",
      "Epoch 21/50\n",
      "172/172 - 39s - loss: 2.7572e-05 - logcosh: 2.7572e-05 - val_loss: 5.8407e-05 - val_logcosh: 5.8407e-05 - 39s/epoch - 229ms/step\n",
      "Epoch 22/50\n",
      "172/172 - 39s - loss: 2.7236e-05 - logcosh: 2.7236e-05 - val_loss: 5.1069e-05 - val_logcosh: 5.1069e-05 - 39s/epoch - 228ms/step\n",
      "Epoch 23/50\n",
      "172/172 - 37s - loss: 2.5959e-05 - logcosh: 2.5959e-05 - val_loss: 4.8015e-05 - val_logcosh: 4.8015e-05 - 37s/epoch - 217ms/step\n",
      "Epoch 24/50\n",
      "172/172 - 33s - loss: 2.5722e-05 - logcosh: 2.5722e-05 - val_loss: 4.4083e-05 - val_logcosh: 4.4083e-05 - 33s/epoch - 191ms/step\n",
      "Epoch 25/50\n",
      "172/172 - 33s - loss: 2.5805e-05 - logcosh: 2.5805e-05 - val_loss: 4.5253e-05 - val_logcosh: 4.5253e-05 - 33s/epoch - 192ms/step\n",
      "Epoch 26/50\n",
      "172/172 - 34s - loss: 2.5456e-05 - logcosh: 2.5456e-05 - val_loss: 4.2525e-05 - val_logcosh: 4.2525e-05 - 34s/epoch - 196ms/step\n",
      "Epoch 27/50\n",
      "172/172 - 37s - loss: 2.4212e-05 - logcosh: 2.4212e-05 - val_loss: 4.3474e-05 - val_logcosh: 4.3474e-05 - 37s/epoch - 214ms/step\n",
      "Epoch 28/50\n",
      "172/172 - 36s - loss: 2.4017e-05 - logcosh: 2.4017e-05 - val_loss: 4.0797e-05 - val_logcosh: 4.0797e-05 - 36s/epoch - 208ms/step\n",
      "Epoch 29/50\n",
      "172/172 - 35s - loss: 2.4020e-05 - logcosh: 2.4020e-05 - val_loss: 4.0494e-05 - val_logcosh: 4.0494e-05 - 35s/epoch - 203ms/step\n",
      "Epoch 30/50\n",
      "172/172 - 34s - loss: 2.2564e-05 - logcosh: 2.2564e-05 - val_loss: 4.7276e-05 - val_logcosh: 4.7276e-05 - 34s/epoch - 195ms/step\n",
      "Epoch 31/50\n",
      "172/172 - 33s - loss: 2.2628e-05 - logcosh: 2.2628e-05 - val_loss: 4.0175e-05 - val_logcosh: 4.0175e-05 - 33s/epoch - 189ms/step\n",
      "Epoch 32/50\n",
      "172/172 - 41s - loss: 2.2687e-05 - logcosh: 2.2687e-05 - val_loss: 4.0691e-05 - val_logcosh: 4.0691e-05 - 41s/epoch - 238ms/step\n",
      "Epoch 33/50\n",
      "172/172 - 38s - loss: 2.2037e-05 - logcosh: 2.2037e-05 - val_loss: 6.0476e-05 - val_logcosh: 6.0476e-05 - 38s/epoch - 222ms/step\n",
      "Epoch 34/50\n",
      "172/172 - 32s - loss: 2.1546e-05 - logcosh: 2.1546e-05 - val_loss: 4.7417e-05 - val_logcosh: 4.7417e-05 - 32s/epoch - 184ms/step\n",
      "Epoch 35/50\n",
      "172/172 - 30s - loss: 2.1338e-05 - logcosh: 2.1338e-05 - val_loss: 4.0567e-05 - val_logcosh: 4.0567e-05 - 30s/epoch - 177ms/step\n",
      "Epoch 36/50\n",
      "172/172 - 33s - loss: 2.1006e-05 - logcosh: 2.1006e-05 - val_loss: 4.5528e-05 - val_logcosh: 4.5528e-05 - 33s/epoch - 190ms/step\n",
      "Epoch 37/50\n",
      "172/172 - 38s - loss: 2.0214e-05 - logcosh: 2.0214e-05 - val_loss: 3.5570e-05 - val_logcosh: 3.5570e-05 - 38s/epoch - 219ms/step\n",
      "Epoch 38/50\n",
      "172/172 - 39s - loss: 2.0972e-05 - logcosh: 2.0972e-05 - val_loss: 4.1943e-05 - val_logcosh: 4.1943e-05 - 39s/epoch - 229ms/step\n",
      "Epoch 39/50\n",
      "172/172 - 36s - loss: 2.0014e-05 - logcosh: 2.0014e-05 - val_loss: 3.7937e-05 - val_logcosh: 3.7937e-05 - 36s/epoch - 212ms/step\n",
      "Epoch 40/50\n",
      "172/172 - 35s - loss: 1.9914e-05 - logcosh: 1.9914e-05 - val_loss: 5.3711e-05 - val_logcosh: 5.3711e-05 - 35s/epoch - 202ms/step\n",
      "Epoch 41/50\n",
      "172/172 - 43s - loss: 2.0328e-05 - logcosh: 2.0328e-05 - val_loss: 4.6087e-05 - val_logcosh: 4.6087e-05 - 43s/epoch - 249ms/step\n",
      "Epoch 42/50\n",
      "172/172 - 33s - loss: 1.9970e-05 - logcosh: 1.9970e-05 - val_loss: 3.3558e-05 - val_logcosh: 3.3558e-05 - 33s/epoch - 191ms/step\n",
      "Epoch 43/50\n",
      "172/172 - 32s - loss: 1.9433e-05 - logcosh: 1.9433e-05 - val_loss: 4.6652e-05 - val_logcosh: 4.6652e-05 - 32s/epoch - 186ms/step\n",
      "Epoch 44/50\n",
      "172/172 - 31s - loss: 1.9384e-05 - logcosh: 1.9384e-05 - val_loss: 3.6497e-05 - val_logcosh: 3.6497e-05 - 31s/epoch - 183ms/step\n",
      "Epoch 45/50\n",
      "172/172 - 31s - loss: 1.9280e-05 - logcosh: 1.9280e-05 - val_loss: 3.3704e-05 - val_logcosh: 3.3704e-05 - 31s/epoch - 178ms/step\n",
      "Epoch 46/50\n",
      "172/172 - 31s - loss: 1.8586e-05 - logcosh: 1.8586e-05 - val_loss: 4.2950e-05 - val_logcosh: 4.2950e-05 - 31s/epoch - 179ms/step\n",
      "Epoch 47/50\n",
      "172/172 - 31s - loss: 1.8949e-05 - logcosh: 1.8949e-05 - val_loss: 3.1092e-05 - val_logcosh: 3.1092e-05 - 31s/epoch - 178ms/step\n",
      "Epoch 48/50\n",
      "172/172 - 31s - loss: 1.9084e-05 - logcosh: 1.9084e-05 - val_loss: 3.3598e-05 - val_logcosh: 3.3598e-05 - 31s/epoch - 182ms/step\n",
      "Epoch 49/50\n",
      "172/172 - 31s - loss: 1.8409e-05 - logcosh: 1.8409e-05 - val_loss: 3.0310e-05 - val_logcosh: 3.0310e-05 - 31s/epoch - 182ms/step\n",
      "Epoch 50/50\n",
      "172/172 - 32s - loss: 1.8883e-05 - logcosh: 1.8883e-05 - val_loss: 3.4126e-05 - val_logcosh: 3.4126e-05 - 32s/epoch - 186ms/step\n",
      "> Training Time : 10606 seconds.\n"
     ]
    }
   ],
   "source": [
    "#\n",
    "# Build and compile the model\n",
    "#\n",
    "tcn_ae = TCNAE(latent_sample_rate = 2) # Use the parameters specified in the paper\n",
    "\n",
    "#\n",
    "# Train TCN-AE for 10 epochs. For a better accuracy \n",
    "# on the test case, increase the epochs to epochs=40 \n",
    "# The training takes about 3-4 minutes for 10 epochs, \n",
    "# and 15 minutes for 40 epochs (on Google CoLab, with GPU enabled)\n",
    "#\n",
    "tcn_ae.fit(x_train, x_train, batch_size=32, epochs=50, verbose=1)"
   ]
  },
  {
   "cell_type": "code",
   "execution_count": 10,
   "metadata": {
    "execution": {
     "iopub.execute_input": "2023-03-07T17:15:10.308318Z",
     "iopub.status.busy": "2023-03-07T17:15:10.307992Z",
     "iopub.status.idle": "2023-03-07T17:15:12.378522Z",
     "shell.execute_reply": "2023-03-07T17:15:12.377528Z",
     "shell.execute_reply.started": "2023-03-07T17:15:10.308291Z"
    },
    "tags": []
   },
   "outputs": [
    {
     "name": "stdout",
     "output_type": "stream",
     "text": [
      "> Time: 2 seconds.\n"
     ]
    }
   ],
   "source": [
    "start_time = time.time()\n",
    "anomaly_score = tcn_ae.predict(ds.ts_scaled[numpy.newaxis,:,:])\n",
    "print(\"> Time:\", round(time.time() - start_time), \"seconds.\")"
   ]
  },
  {
   "cell_type": "code",
   "execution_count": null,
   "metadata": {
    "tags": []
   },
   "outputs": [],
   "source": [
    "anomaly_score"
   ]
  },
  {
   "cell_type": "code",
   "execution_count": null,
   "metadata": {
    "tags": []
   },
   "outputs": [],
   "source": [
    "plt.plot(anomaly_score)"
   ]
  },
  {
   "cell_type": "code",
   "execution_count": null,
   "metadata": {
    "tags": []
   },
   "outputs": [],
   "source": [
    "anomaly_score.min()"
   ]
  },
  {
   "cell_type": "code",
   "execution_count": null,
   "metadata": {
    "tags": []
   },
   "outputs": [],
   "source": [
    "anomaly_score.max()"
   ]
  },
  {
   "cell_type": "code",
   "execution_count": null,
   "metadata": {
    "tags": []
   },
   "outputs": [],
   "source": [
    "ds.df['is_anomaly']"
   ]
  },
  {
   "cell_type": "code",
   "execution_count": null,
   "metadata": {
    "tags": []
   },
   "outputs": [],
   "source": [
    "anomaly_score"
   ]
  },
  {
   "cell_type": "code",
   "execution_count": 11,
   "metadata": {
    "execution": {
     "iopub.execute_input": "2023-03-07T17:15:23.324379Z",
     "iopub.status.busy": "2023-03-07T17:15:23.324060Z",
     "iopub.status.idle": "2023-03-07T17:15:23.528237Z",
     "shell.execute_reply": "2023-03-07T17:15:23.527330Z",
     "shell.execute_reply.started": "2023-03-07T17:15:23.324350Z"
    },
    "tags": []
   },
   "outputs": [
    {
     "data": {
      "text/plain": [
       "[<matplotlib.lines.Line2D at 0x14e62e6a0>]"
      ]
     },
     "execution_count": 11,
     "metadata": {},
     "output_type": "execute_result"
    },
    {
     "data": {
      "image/png": "[encoded data removed]",
      "text/plain": [
       "<Figure size 432x288 with 1 Axes>"
      ]
     },
     "metadata": {
      "needs_background": "light"
     },
     "output_type": "display_data"
    }
   ],
   "source": [
    "plt.plot(ds.df)\n",
    "plt.plot(anomaly_score/10)"
   ]
  },
  {
   "cell_type": "code",
   "execution_count": null,
   "metadata": {
    "tags": []
   },
   "outputs": [],
   "source": [
    "ds.plot()"
   ]
  },
  {
   "cell_type": "code",
   "execution_count": null,
   "metadata": {},
   "outputs": [],
   "source": []
  }
 ],
 "metadata": {
  "kernelspec": {
   "display_name": "Python 3",
   "language": "python",
   "name": "python3"
  },
  "language_info": {
   "codemirror_mode": {
    "name": "ipython",
    "version": 3
   },
   "file_extension": ".py",
   "mimetype": "text/x-python",
   "name": "python",
   "nbconvert_exporter": "python",
   "pygments_lexer": "ipython3",
   "version": "3.9.16"
  }
 },
 "nbformat": 4,
 "nbformat_minor": 4
}
